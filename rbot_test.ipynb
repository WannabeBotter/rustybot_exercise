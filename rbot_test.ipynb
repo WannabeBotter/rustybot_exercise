{
  "cells": [
    {
      "cell_type": "code",
      "source": [
        "# rusty botパッケージのインストール（大幅修正中のため、Bybitのバックテストのみ動作確認完了）\n",
        "! pip install -i https://test.pypi.org/simple/ rbot==0.1.6\n",
        "! pip install polars_talib"
      ],
      "metadata": {
        "id": "oGZEf8EO0hQN"
      },
      "execution_count": null,
      "outputs": []
    },
    {
      "cell_type": "code",
      "source": [
        "import rbot\n",
        "rbot.mount_google_drive()   # google colabの場合GoogleDriveにダウンロードデータを保存します。"
      ],
      "metadata": {
        "id": "uUgh49TM00h3"
      },
      "execution_count": null,
      "outputs": []
    },
    {
      "cell_type": "code",
      "execution_count": null,
      "metadata": {
        "id": "0J2VRGLx0fwD"
      },
      "outputs": [],
      "source": [
        "import warnings\n",
        "warnings.filterwarnings(\"ignore\", category=DeprecationWarning)\n",
        "\n",
        "import polars_talib as plta\n",
        "import polars as pl\n",
        "import numpy as np\n",
        "import json\n",
        "\n",
        "from rbot import Bybit, BybitConfig, Runner"
      ]
    },
    {
      "cell_type": "code",
      "execution_count": null,
      "metadata": {
        "id": "QWL2EACo0fwE"
      },
      "outputs": [],
      "source": [
        "class PureRichmanAgent:\n",
        "    def __init__(self, order_size: float=0.01, timebar_interval_sec: int=4 * 60 * 60, atr_multiple:float = 0.5, atr_bars: int=24):\n",
        "        # agentの設定\n",
        "        self.setting = {\n",
        "            \"order_size\": order_size,\n",
        "            \"timebar_interval_sec\": timebar_interval_sec,\n",
        "            \"atr_multiple\": atr_multiple,\n",
        "            \"atr_bars\": atr_bars\n",
        "        }\n",
        "\n",
        "        # タイムバーをagent内で保持しておくためのデータフレーム\n",
        "        self.df_timebar = pl.DataFrame(schema={\n",
        "            \"timestamp\": pl.Datetime,             # Datetime型へ変更しました。\n",
        "            \"open\": pl.Float64,\n",
        "            \"high\": pl.Float64,\n",
        "            \"low\": pl.Float64,\n",
        "            \"close\": pl.Float64,\n",
        "            \"volume\": pl.Float64,\n",
        "            \"count\": pl.UInt32,\n",
        "        })\n",
        "\n",
        "    def on_init(self, session):\n",
        "        # on_clock呼び出し間隔を設定\n",
        "        session.clock_interval_sec = self.setting[\"timebar_interval_sec\"]\n",
        "\n",
        "    def on_clock(self, session, clock):\n",
        "        # rbotから最新のタイムバーをデータフレーム(1行)として取得\n",
        "        _df_timebar = session.ohlcv(self.setting[\"timebar_interval_sec\"], 1)\n",
        "\n",
        "        if _df_timebar.shape[0] > 1:\n",
        "            session.print(\"タイムバーを１本指定したので１本以下なはず（データがない場合は０になる可能性あり）。１本以上という条件のこのプリント文が表示されたらバグです\")\n",
        "            return\n",
        "\n",
        "        if _df_timebar.shape[0] > 0:\n",
        "            if _df_timebar[\"timestamp\"][-1] == clock:\n",
        "                # ウォームアップ中の呼び出しなので何もしない\n",
        "                session.print(\"ウォームアップ中はよびだされないようにFix済み。これが表示されたらバグです\")\n",
        "                return\n",
        "            else:\n",
        "                # バックテスト中でかつ直前のタイムバーが生成されているので、ローカルのタイムバー保持用データフレームに追加\n",
        "                self.df_timebar = self.df_timebar[-12:].vstack(_df_timebar[-1]).sort(\"timestamp\", descending = False)\n",
        "        else:\n",
        "            # 直前のタイムバー期間でトレードがなく、直前のタイムバーが生成されていない\n",
        "            if self.df_timebar.shape[0] > 0:\n",
        "                # 直前のタイムバーのクローズ価格が取得できる場合は、価格変化なしのタイムバーを作成してローカルのデータフレームに追加\n",
        "                _close = self.df_timebar[\"close\"][-1]\n",
        "                _df_timebar = pl.DataFrame({\n",
        "                    \"timestamp\": clock,\n",
        "                    \"open\": _close,\n",
        "                    \"high\": _close,\n",
        "                    \"low\": _close,\n",
        "                    \"close\": _close,\n",
        "                    \"volume\": 0.0,\n",
        "                    \"count\": np.uint32(0)\n",
        "                })\n",
        "                self.df_timebar = self.df_timebar.vstack(_df_timebar)\n",
        "            else:\n",
        "                # 直前のクローズ価格が取得できないので、何もしない\n",
        "                raise Exception(\"No past timebar data & No new timebar data\")\n",
        "\n",
        "        # ATRの計算\n",
        "        _df_timebar_with_indicators = self.df_timebar.with_columns(\n",
        "            plta.atr(pl.col(\"high\"), pl.col(\"low\"), pl.col(\"close\"), self.setting[\"atr_bars\"]).alias(\"atr\"),\n",
        "            (np.log(pl.col(\"close\")) - np.log(pl.col(\"close\").shift(1))).alias(\"lr\")\n",
        "        )\n",
        "        _atr = _df_timebar_with_indicators[\"atr\"][-1]\n",
        "        _close = _df_timebar_with_indicators[\"close\"][-1]\n",
        "        _price_unit = 0.1\n",
        "\n",
        "        if np.isnan(_atr) == False:\n",
        "            # ATRが計算できたので、注文を出す\n",
        "\n",
        "            # 残っている指値注文を全てキャンセル\n",
        "            for _order in session.buy_orders:\n",
        "                session.cancel_order(_order.order_id)\n",
        "                session.print(f\"on_clock ({clock}): cancel BUY LIMIT order: {_order}\")    # session.printをつかうとプログレスバーと同居できます。\n",
        "            for _order in session.sell_orders:\n",
        "                session.cancel_order(_order.order_id)\n",
        "                session.print(f\"on_clock ({clock}): cancel SELL LIMIT order: {_order}\")\n",
        "\n",
        "            if session.position <= 0.0:\n",
        "                # ショートポジションを取っているか、ポジションがないので買い指値を入れる\n",
        "                _price = ((_close - self.setting[\"atr_multiple\"] * _atr) // _price_unit) * _price_unit\n",
        "                _amount = self.setting[\"order_size\"] if session.position == 0.0 else abs(session.position)\n",
        "\n",
        "                session.print(f\"on_clock ({clock}): BUY LIMIT ORDER {_price}, {_amount}\")\n",
        "                session.limit_order(\"Buy\", _price, _amount)\n",
        "            if session.position >= 0.0:\n",
        "                # ロングポジションを取っているか、ポジションがないので売り指値を入れる\n",
        "                _price = ((_close + self.setting[\"atr_multiple\"] * _atr) // _price_unit) * _price_unit\n",
        "                _amount = self.setting[\"order_size\"] if session.position == 0.0 else abs(session.position)\n",
        "\n",
        "                session.print(f\"on_clock ({clock}): SELL LIMIT ORDER {_price}, {_amount}\")\n",
        "                session.limit_order(\"Sell\", _price, _amount)\n",
        "\n",
        "    def on_update(self, session, update):\n",
        "        # print(f\"on_update: {update}\")\n",
        "        pass"
      ]
    },
    {
      "cell_type": "code",
      "execution_count": null,
      "metadata": {
        "id": "KOr2CZg60fwF"
      },
      "outputs": [],
      "source": [
        "\n",
        "exchange = Bybit(production=True)\n",
        "config = BybitConfig.BTCUSDT\n",
        "market = exchange.open_market(config)\n",
        "#market.download_archive(\n",
        "#    ndays=365,        # specify from past days\n",
        "#    force=True,    # if false, the cache data will be used.\n",
        "#    verbose=True    # verbose to print download progress.\n",
        "#)\n",
        "\n",
        "# market.expire_unfix_data(force=True)    # アーカイブにはUnfixデータはないので削除。今回からアーカイブの範囲だけのバックテストへ変更となりました。"
      ]
    },
    {
      "cell_type": "code",
      "source": [
        "# とりあえず20日分のダウンロード\n",
        "market.download_archive(\n",
        "    ndays=20,        # specify from past days\n",
        "    force=False,    # if false, the cache data will be used.\n",
        "    verbose=True    # verbose to print download progress.\n",
        ")"
      ],
      "metadata": {
        "id": "Tt2z9fDv2Fje"
      },
      "execution_count": null,
      "outputs": []
    },
    {
      "cell_type": "code",
      "execution_count": null,
      "metadata": {
        "id": "fwBTPMfy0fwF"
      },
      "outputs": [],
      "source": [
        "agent = PureRichmanAgent(0.01, 4 * 60 * 60, 0.5, 12)\n",
        "runner = Runner()\n",
        "\n",
        "session = runner.back_test(\n",
        "                exchange=exchange,\n",
        "                market=market,\n",
        "                agent=agent,\n",
        "                start_time=0,\n",
        "                end_time=0,\n",
        "                verbose=True    # Trueにしないとprintもいまのところ非表示になります。\n",
        "            )"
      ]
    },
    {
      "cell_type": "code",
      "execution_count": null,
      "metadata": {
        "id": "U4HuLzRA0fwG"
      },
      "outputs": [],
      "source": [
        "orders = session.log.orders\n",
        "print(f\"トータルリターン (手数料込) : {orders['total_profit'].sum()}\")\n",
        "print(f\"トータルリターン (手数料抜き) : {orders['profit'].sum()}\")"
      ]
    },
    {
      "cell_type": "code",
      "source": [],
      "metadata": {
        "id": "2x3NnBbl3LC8"
      },
      "execution_count": null,
      "outputs": []
    }
  ],
  "metadata": {
    "kernelspec": {
      "display_name": "venv",
      "language": "python",
      "name": "python3"
    },
    "language_info": {
      "codemirror_mode": {
        "name": "ipython",
        "version": 3
      },
      "file_extension": ".py",
      "mimetype": "text/x-python",
      "name": "python",
      "nbconvert_exporter": "python",
      "pygments_lexer": "ipython3",
      "version": "3.10.12"
    },
    "colab": {
      "provenance": []
    }
  },
  "nbformat": 4,
  "nbformat_minor": 0
}